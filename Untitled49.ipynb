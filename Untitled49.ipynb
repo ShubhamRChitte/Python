{
  "nbformat": 4,
  "nbformat_minor": 0,
  "metadata": {
    "colab": {
      "provenance": [],
      "authorship_tag": "ABX9TyMxladYyNKHGHIczXNeM0eC",
      "include_colab_link": true
    },
    "kernelspec": {
      "name": "python3",
      "display_name": "Python 3"
    },
    "language_info": {
      "name": "python"
    }
  },
  "cells": [
    {
      "cell_type": "markdown",
      "metadata": {
        "id": "view-in-github",
        "colab_type": "text"
      },
      "source": [
        "<a href=\"https://colab.research.google.com/github/ShubhamRChitte/Python/blob/main/Untitled49.ipynb\" target=\"_parent\"><img src=\"https://colab.research.google.com/assets/colab-badge.svg\" alt=\"Open In Colab\"/></a>"
      ]
    },
    {
      "cell_type": "code",
      "execution_count": null,
      "metadata": {
        "colab": {
          "base_uri": "https://localhost:8080/"
        },
        "id": "yp9fNvR9Q27g",
        "outputId": "7d0d7c67-c6ca-40ab-edfb-5d7225e45bda"
      },
      "outputs": [
        {
          "output_type": "stream",
          "name": "stdout",
          "text": [
            " In 2nd Year Computer Science Engineering Class .group A play Cricket ,group B play Badminton and group C play Football\n",
            "    Write python Program using functions to compute following :\n",
            "    1.list of students who play both Cricket and Badminton .\n",
            "    2.list of students who play either Cricket or Badminton but not both .\n",
            "    3.list of students who play neither Cricket nor Badminton .\n",
            "    4.list of students who play Cricket and Football but not Badminton .\n",
            "Enter a no of students who play cricket : 5\n",
            "Enter a name of students who play Cricket : \n",
            "shubham\n",
            "sai\n",
            "yadnesh\n",
            "yash\n",
            "pranav\n",
            "Enter a no of students who play Badminton : 2\n",
            "Enter a name of students who play Badminton : \n",
            "shubham\n",
            "pranav\n",
            "Enter a no of students who play Football : 2\n",
            "Enter a name of students who play Football : \n",
            "yadnesh\n",
            "tejas\n",
            "Answer 1 : ['shubham', 'pranav']\n",
            "Answer 2 : ['sai', 'yadnesh', 'yash']\n",
            "Answer 3 : ['tejas']\n",
            "Answer 4 : ['yadnesh']\n"
          ]
        }
      ],
      "source": [
        "print(''' In 2nd Year Computer Science Engineering Class .group A play Cricket ,group B play Badminton and group C play Football\n",
        "    Write python Program using functions to compute following :\n",
        "    1.list of students who play both Cricket and Badminton .\n",
        "    2.list of students who play either Cricket or Badminton but not both .\n",
        "    3.list of students who play neither Cricket nor Badminton .\n",
        "    4.list of students who play Cricket and Football but not Badminton .''')\n",
        "n1= int(input('Enter a no of students who play cricket : '))\n",
        "print('Enter a name of students who play Cricket : ')\n",
        "\n",
        "cricket=[]\n",
        "for i in range(n1):\n",
        "  x=input()\n",
        "  cricket.append(x)\n",
        "\n",
        "n2= int(input('Enter a no of students who play Badminton : '))\n",
        "print('Enter a name of students who play Badminton : ')\n",
        "\n",
        "Badminton=[]\n",
        "for i in range(n2):\n",
        "  x=input()\n",
        "  Badminton.append(x)\n",
        "\n",
        "n3= int(input('Enter a no of students who play Football : '))\n",
        "print('Enter a name of students who play Football : ')\n",
        "\n",
        "Football =[]\n",
        "for i in range(n3):\n",
        "  x=input()\n",
        "  Football.append(x)\n",
        "\n",
        "\n",
        "def x(list1,list2):\n",
        "  list3=[]\n",
        "  for i in list1 :\n",
        "      for j in list2 :\n",
        "         if (i==j) :\n",
        "            list3.append(i)\n",
        "\n",
        "  return list3\n",
        "\n",
        "def uni(list1):\n",
        "  list5=cricket.copy()\n",
        "  for i in list1 :\n",
        "    if i not in list5 :\n",
        "      list5.append(i)\n",
        "  return list5\n",
        "\n",
        "def y(list1,list2):\n",
        "  list4=[]\n",
        "  for i in list1 :\n",
        "    if i not in list2 :\n",
        "      list4.append(i)\n",
        "  return list4\n",
        "\n",
        "\n",
        "\n",
        "def a(list1,list2):\n",
        "  list9=[]\n",
        "  for i in list2 :\n",
        "    if (i not in list1):\n",
        "        list9.append(i)\n",
        "\n",
        "  return list9\n",
        "\n",
        "\n",
        "def b(list1,list2):\n",
        "  ft=[]\n",
        "  for i in list1 :\n",
        "    for j in list2 :\n",
        "      if (i==j):\n",
        "        break\n",
        "      else :\n",
        "        if i not in ft:\n",
        "          ft.append(i)\n",
        "\n",
        "  return ft\n",
        "\n",
        "a1=x(cricket,Badminton)\n",
        "b1=x(cricket,Football)\n",
        "uni=uni(Badminton)\n",
        "print('Answer 1 :',a1)\n",
        "print('Answer 2 :',y(uni,a1))\n",
        "print('Answer 3 :',a(uni,Football))\n",
        "print('Answer 4 :',b(b1,Badminton))\n"
      ]
    },
    {
      "cell_type": "code",
      "source": [],
      "metadata": {
        "id": "-lQr3NVHQ7n-"
      },
      "execution_count": null,
      "outputs": []
    }
  ]
}